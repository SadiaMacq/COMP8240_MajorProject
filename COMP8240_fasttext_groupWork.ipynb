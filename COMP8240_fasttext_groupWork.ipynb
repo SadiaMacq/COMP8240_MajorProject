{
 "cells": [
  {
   "cell_type": "markdown",
   "metadata": {},
   "source": [
    "## Major Project COMP8240"
   ]
  },
  {
   "cell_type": "markdown",
   "metadata": {},
   "source": [
    "### Default Project - Group J"
   ]
  },
  {
   "cell_type": "markdown",
   "metadata": {},
   "source": [
    "### Author: Sadia Tasnim (45760179)"
   ]
  },
  {
   "cell_type": "markdown",
   "metadata": {},
   "source": [
    "###  fastText library exploration "
   ]
  },
  {
   "cell_type": "markdown",
   "metadata": {},
   "source": [
    "The objective of this project is to explore the facebook machine learning library called fastText which is doing a phenomenal job in word labelling and representation. This particular machine learning library can be applied to the purpose of text classification which is a necessity in case of sentiment analysis, business analysis (such as - product reviews, customer satisfaction percentage), as well as political situation analysis. In this project we will show our work in two steps - \n",
    "1. Replication of original work\n",
    "2. Applying fasttext model in new dataset and comparison with the original work\n"
   ]
  },
  {
   "cell_type": "markdown",
   "metadata": {},
   "source": [
    "The purpose is to show how the library can be used in supervised machine learning and even be tuned to be fast and more accurate."
   ]
  },
  {
   "cell_type": "markdown",
   "metadata": {},
   "source": [
    "Twitter data sources\n",
    "1. http://cucis.ece.northwestern.edu/projects/Social/sentiment_data.html\n",
    "2. http://help.sentiment140.com/for-students"
   ]
  },
  {
   "cell_type": "markdown",
   "metadata": {},
   "source": [
    "## Loading the necessary libraries"
   ]
  },
  {
   "cell_type": "code",
   "execution_count": 1,
   "metadata": {},
   "outputs": [],
   "source": [
    "import pandas as pd\n",
    "import numpy as np"
   ]
  },
  {
   "cell_type": "markdown",
   "metadata": {},
   "source": [
    "## Data Preprocessing"
   ]
  },
  {
   "cell_type": "markdown",
   "metadata": {},
   "source": [
    "The Twitter dataset from the above mentioned first link have two separate files for twitter data and labels.The purpose is to combine those the two text files so that the labels for each tweet can be viewed in one line and the model setup in fasttext can be completed. "
   ]
  },
  {
   "cell_type": "markdown",
   "metadata": {},
   "source": [
    "I have taken the second dataset to enrich the volume and variety of the dataset as the first dataset had only 500 tweets. "
   ]
  },
  {
   "cell_type": "code",
   "execution_count": 2,
   "metadata": {},
   "outputs": [],
   "source": [
    "#This code will combine the tweets and the labels of the first data source\n",
    "combine =[]\n",
    "\n",
    "with open(\"tweets_data.txt\") as xh:\n",
    "    with open('tweets_label.txt') as yh:\n",
    "        with open(\"tweetsShort.txt\",\"w\") as zh:\n",
    "      #Read first file\n",
    "          xlines = xh.readlines()\n",
    "      #Read second file\n",
    "          ylines = yh.readlines()\n",
    "      #Combine content of both lists\n",
    "      #combine = list(zip(ylines,xlines))\n",
    "      #Write to third file\n",
    "          for i in range(len(xlines)):\n",
    "            line = \"__label__\"+ ylines[i].strip() + ' ' + xlines[i]\n",
    "            zh.write(line)"
   ]
  },
  {
   "cell_type": "markdown",
   "metadata": {},
   "source": []
  },
  {
   "cell_type": "code",
   "execution_count": 3,
   "metadata": {},
   "outputs": [
    {
     "data": {
      "text/html": [
       "<div>\n",
       "<style scoped>\n",
       "    .dataframe tbody tr th:only-of-type {\n",
       "        vertical-align: middle;\n",
       "    }\n",
       "\n",
       "    .dataframe tbody tr th {\n",
       "        vertical-align: top;\n",
       "    }\n",
       "\n",
       "    .dataframe thead th {\n",
       "        text-align: right;\n",
       "    }\n",
       "</style>\n",
       "<table border=\"1\" class=\"dataframe\">\n",
       "  <thead>\n",
       "    <tr style=\"text-align: right;\">\n",
       "      <th></th>\n",
       "      <th>target</th>\n",
       "      <th>ids</th>\n",
       "      <th>date</th>\n",
       "      <th>flag</th>\n",
       "      <th>user</th>\n",
       "      <th>text</th>\n",
       "    </tr>\n",
       "  </thead>\n",
       "  <tbody>\n",
       "    <tr>\n",
       "      <th>1029879</th>\n",
       "      <td>4</td>\n",
       "      <td>1932844434</td>\n",
       "      <td>Tue May 26 22:21:12 PDT 2009</td>\n",
       "      <td>NO_QUERY</td>\n",
       "      <td>morgancorin</td>\n",
       "      <td>Sleep...who needs it?!? At least I'll have a c...</td>\n",
       "    </tr>\n",
       "    <tr>\n",
       "      <th>111585</th>\n",
       "      <td>0</td>\n",
       "      <td>1825172728</td>\n",
       "      <td>Sun May 17 04:39:35 PDT 2009</td>\n",
       "      <td>NO_QUERY</td>\n",
       "      <td>Jovanny987</td>\n",
       "      <td>Wasent On 4 Some Time Cuz I Was qrounded</td>\n",
       "    </tr>\n",
       "    <tr>\n",
       "      <th>486161</th>\n",
       "      <td>0</td>\n",
       "      <td>2181412693</td>\n",
       "      <td>Mon Jun 15 11:47:42 PDT 2009</td>\n",
       "      <td>NO_QUERY</td>\n",
       "      <td>ewabradley</td>\n",
       "      <td>is a little lost today...</td>\n",
       "    </tr>\n",
       "    <tr>\n",
       "      <th>1474408</th>\n",
       "      <td>4</td>\n",
       "      <td>2065731319</td>\n",
       "      <td>Sun Jun 07 09:10:49 PDT 2009</td>\n",
       "      <td>NO_QUERY</td>\n",
       "      <td>Nattington</td>\n",
       "      <td>so pleased Roger did it</td>\n",
       "    </tr>\n",
       "    <tr>\n",
       "      <th>1200171</th>\n",
       "      <td>4</td>\n",
       "      <td>1985453394</td>\n",
       "      <td>Sun May 31 17:07:55 PDT 2009</td>\n",
       "      <td>NO_QUERY</td>\n",
       "      <td>BethHeinbeck</td>\n",
       "      <td>Excited to watch the VMA's and see Kings of Le...</td>\n",
       "    </tr>\n",
       "  </tbody>\n",
       "</table>\n",
       "</div>"
      ],
      "text/plain": [
       "         target         ids                          date      flag  \\\n",
       "1029879       4  1932844434  Tue May 26 22:21:12 PDT 2009  NO_QUERY   \n",
       "111585        0  1825172728  Sun May 17 04:39:35 PDT 2009  NO_QUERY   \n",
       "486161        0  2181412693  Mon Jun 15 11:47:42 PDT 2009  NO_QUERY   \n",
       "1474408       4  2065731319  Sun Jun 07 09:10:49 PDT 2009  NO_QUERY   \n",
       "1200171       4  1985453394  Sun May 31 17:07:55 PDT 2009  NO_QUERY   \n",
       "\n",
       "                 user                                               text  \n",
       "1029879   morgancorin  Sleep...who needs it?!? At least I'll have a c...  \n",
       "111585     Jovanny987          Wasent On 4 Some Time Cuz I Was qrounded   \n",
       "486161     ewabradley                         is a little lost today...   \n",
       "1474408    Nattington                           so pleased Roger did it   \n",
       "1200171  BethHeinbeck  Excited to watch the VMA's and see Kings of Le...  "
      ]
     },
     "execution_count": 3,
     "metadata": {},
     "output_type": "execute_result"
    }
   ],
   "source": [
    "#This code will read tweets from the second dataset\n",
    "DATASET_COLUMNS=['target','ids','date','flag','user','text']\n",
    "DATASET_ENCODING = \"ISO-8859-1\"\n",
    "tweet_long_df = pd.read_csv('trainingandtestdata/tweetTraining.csv', encoding=DATASET_ENCODING, names=DATASET_COLUMNS)\n",
    "tweet_long_df.sample(5)"
   ]
  },
  {
   "cell_type": "code",
   "execution_count": 4,
   "metadata": {},
   "outputs": [
    {
     "data": {
      "text/html": [
       "<div>\n",
       "<style scoped>\n",
       "    .dataframe tbody tr th:only-of-type {\n",
       "        vertical-align: middle;\n",
       "    }\n",
       "\n",
       "    .dataframe tbody tr th {\n",
       "        vertical-align: top;\n",
       "    }\n",
       "\n",
       "    .dataframe thead th {\n",
       "        text-align: right;\n",
       "    }\n",
       "</style>\n",
       "<table border=\"1\" class=\"dataframe\">\n",
       "  <thead>\n",
       "    <tr style=\"text-align: right;\">\n",
       "      <th></th>\n",
       "      <th>target</th>\n",
       "      <th>ids</th>\n",
       "      <th>date</th>\n",
       "      <th>flag</th>\n",
       "      <th>user</th>\n",
       "      <th>text</th>\n",
       "    </tr>\n",
       "  </thead>\n",
       "  <tbody>\n",
       "    <tr>\n",
       "      <th>1188305</th>\n",
       "      <td>4</td>\n",
       "      <td>1983310328</td>\n",
       "      <td>Sun May 31 12:54:45 PDT 2009</td>\n",
       "      <td>NO_QUERY</td>\n",
       "      <td>alixfersure</td>\n",
       "      <td>Its to early. So I'm gonna try go back to sleep</td>\n",
       "    </tr>\n",
       "    <tr>\n",
       "      <th>1433502</th>\n",
       "      <td>4</td>\n",
       "      <td>2060455872</td>\n",
       "      <td>Sat Jun 06 18:56:25 PDT 2009</td>\n",
       "      <td>NO_QUERY</td>\n",
       "      <td>Joey_P_Golf</td>\n",
       "      <td>@TheChristinaKim give me a month or two to get...</td>\n",
       "    </tr>\n",
       "    <tr>\n",
       "      <th>1071103</th>\n",
       "      <td>4</td>\n",
       "      <td>1966268307</td>\n",
       "      <td>Fri May 29 17:26:53 PDT 2009</td>\n",
       "      <td>NO_QUERY</td>\n",
       "      <td>ashleyepsen</td>\n",
       "      <td>#blackkeys, #muchbetter &amp;amp; #heybaby are my ...</td>\n",
       "    </tr>\n",
       "    <tr>\n",
       "      <th>411907</th>\n",
       "      <td>0</td>\n",
       "      <td>2060223185</td>\n",
       "      <td>Sat Jun 06 18:29:50 PDT 2009</td>\n",
       "      <td>NO_QUERY</td>\n",
       "      <td>charlotte3107</td>\n",
       "      <td>@R1OTboy o.O whatt? explain???  iloveyuophilly...</td>\n",
       "    </tr>\n",
       "    <tr>\n",
       "      <th>525090</th>\n",
       "      <td>0</td>\n",
       "      <td>2193746724</td>\n",
       "      <td>Tue Jun 16 08:52:33 PDT 2009</td>\n",
       "      <td>NO_QUERY</td>\n",
       "      <td>tylermasid</td>\n",
       "      <td>I wish  I don't want to audits!!!</td>\n",
       "    </tr>\n",
       "  </tbody>\n",
       "</table>\n",
       "</div>"
      ],
      "text/plain": [
       "         target         ids                          date      flag  \\\n",
       "1188305       4  1983310328  Sun May 31 12:54:45 PDT 2009  NO_QUERY   \n",
       "1433502       4  2060455872  Sat Jun 06 18:56:25 PDT 2009  NO_QUERY   \n",
       "1071103       4  1966268307  Fri May 29 17:26:53 PDT 2009  NO_QUERY   \n",
       "411907        0  2060223185  Sat Jun 06 18:29:50 PDT 2009  NO_QUERY   \n",
       "525090        0  2193746724  Tue Jun 16 08:52:33 PDT 2009  NO_QUERY   \n",
       "\n",
       "                  user                                               text  \n",
       "1188305    alixfersure   Its to early. So I'm gonna try go back to sleep   \n",
       "1433502    Joey_P_Golf  @TheChristinaKim give me a month or two to get...  \n",
       "1071103    ashleyepsen  #blackkeys, #muchbetter &amp; #heybaby are my ...  \n",
       "411907   charlotte3107  @R1OTboy o.O whatt? explain???  iloveyuophilly...  \n",
       "525090      tylermasid                 I wish  I don't want to audits!!!   "
      ]
     },
     "execution_count": 4,
     "metadata": {},
     "output_type": "execute_result"
    }
   ],
   "source": [
    "DATASET_COLUMNS=['target','ids','date','flag','user','text']\n",
    "DATASET_ENCODING = \"ISO-8859-1\"\n",
    "tweet_df = pd.read_csv('trainingandtestdata/tweetTraining.csv', encoding=DATASET_ENCODING, names=DATASET_COLUMNS)\n",
    "tweet_df.sample(5)"
   ]
  },
  {
   "cell_type": "code",
   "execution_count": 5,
   "metadata": {},
   "outputs": [
    {
     "data": {
      "text/html": [
       "<div>\n",
       "<style scoped>\n",
       "    .dataframe tbody tr th:only-of-type {\n",
       "        vertical-align: middle;\n",
       "    }\n",
       "\n",
       "    .dataframe tbody tr th {\n",
       "        vertical-align: top;\n",
       "    }\n",
       "\n",
       "    .dataframe thead th {\n",
       "        text-align: right;\n",
       "    }\n",
       "</style>\n",
       "<table border=\"1\" class=\"dataframe\">\n",
       "  <thead>\n",
       "    <tr style=\"text-align: right;\">\n",
       "      <th></th>\n",
       "      <th>target</th>\n",
       "      <th>ids</th>\n",
       "      <th>date</th>\n",
       "      <th>flag</th>\n",
       "      <th>user</th>\n",
       "      <th>text</th>\n",
       "    </tr>\n",
       "  </thead>\n",
       "  <tbody>\n",
       "    <tr>\n",
       "      <th>0</th>\n",
       "      <td>0</td>\n",
       "      <td>1467810369</td>\n",
       "      <td>Mon Apr 06 22:19:45 PDT 2009</td>\n",
       "      <td>NO_QUERY</td>\n",
       "      <td>_TheSpecialOne_</td>\n",
       "      <td>@switchfoot http://twitpic.com/2y1zl - Awww, t...</td>\n",
       "    </tr>\n",
       "    <tr>\n",
       "      <th>1</th>\n",
       "      <td>0</td>\n",
       "      <td>1467810672</td>\n",
       "      <td>Mon Apr 06 22:19:49 PDT 2009</td>\n",
       "      <td>NO_QUERY</td>\n",
       "      <td>scotthamilton</td>\n",
       "      <td>is upset that he can't update his Facebook by ...</td>\n",
       "    </tr>\n",
       "    <tr>\n",
       "      <th>2</th>\n",
       "      <td>0</td>\n",
       "      <td>1467810917</td>\n",
       "      <td>Mon Apr 06 22:19:53 PDT 2009</td>\n",
       "      <td>NO_QUERY</td>\n",
       "      <td>mattycus</td>\n",
       "      <td>@Kenichan I dived many times for the ball. Man...</td>\n",
       "    </tr>\n",
       "    <tr>\n",
       "      <th>3</th>\n",
       "      <td>0</td>\n",
       "      <td>1467811184</td>\n",
       "      <td>Mon Apr 06 22:19:57 PDT 2009</td>\n",
       "      <td>NO_QUERY</td>\n",
       "      <td>ElleCTF</td>\n",
       "      <td>my whole body feels itchy and like its on fire</td>\n",
       "    </tr>\n",
       "    <tr>\n",
       "      <th>4</th>\n",
       "      <td>0</td>\n",
       "      <td>1467811193</td>\n",
       "      <td>Mon Apr 06 22:19:57 PDT 2009</td>\n",
       "      <td>NO_QUERY</td>\n",
       "      <td>Karoli</td>\n",
       "      <td>@nationwideclass no, it's not behaving at all....</td>\n",
       "    </tr>\n",
       "  </tbody>\n",
       "</table>\n",
       "</div>"
      ],
      "text/plain": [
       "   target         ids                          date      flag  \\\n",
       "0       0  1467810369  Mon Apr 06 22:19:45 PDT 2009  NO_QUERY   \n",
       "1       0  1467810672  Mon Apr 06 22:19:49 PDT 2009  NO_QUERY   \n",
       "2       0  1467810917  Mon Apr 06 22:19:53 PDT 2009  NO_QUERY   \n",
       "3       0  1467811184  Mon Apr 06 22:19:57 PDT 2009  NO_QUERY   \n",
       "4       0  1467811193  Mon Apr 06 22:19:57 PDT 2009  NO_QUERY   \n",
       "\n",
       "              user                                               text  \n",
       "0  _TheSpecialOne_  @switchfoot http://twitpic.com/2y1zl - Awww, t...  \n",
       "1    scotthamilton  is upset that he can't update his Facebook by ...  \n",
       "2         mattycus  @Kenichan I dived many times for the ball. Man...  \n",
       "3          ElleCTF    my whole body feels itchy and like its on fire   \n",
       "4           Karoli  @nationwideclass no, it's not behaving at all....  "
      ]
     },
     "execution_count": 5,
     "metadata": {},
     "output_type": "execute_result"
    }
   ],
   "source": [
    "tweet_df.head()"
   ]
  },
  {
   "cell_type": "code",
   "execution_count": 6,
   "metadata": {},
   "outputs": [],
   "source": [
    "tweet_df.loc[(tweet_df.target == 0), 'target'] = 'Negative'\n",
    "tweet_df.loc[(tweet_df.target == 2), 'target'] = 'Neutral'\n",
    "tweet_df.loc[(tweet_df.target == 4), 'target'] = 'Positive'"
   ]
  },
  {
   "cell_type": "code",
   "execution_count": 7,
   "metadata": {},
   "outputs": [
    {
     "data": {
      "text/plain": [
       "<AxesSubplot:>"
      ]
     },
     "execution_count": 7,
     "metadata": {},
     "output_type": "execute_result"
    },
    {
     "data": {
      "image/png": "[encoded data removed]",
      "text/plain": [
       "<Figure size 720x360 with 1 Axes>"
      ]
     },
     "metadata": {
      "needs_background": "light"
     },
     "output_type": "display_data"
    }
   ],
   "source": [
    "tweet_df['target'].value_counts().sort_index().plot(kind = 'bar', figsize = (10, 5))"
   ]
  },
  {
   "cell_type": "code",
   "execution_count": 8,
   "metadata": {},
   "outputs": [],
   "source": [
    "# Creating a new dataframe with only the tweets \n",
    "tweet_long_df_new = tweet_long_df.filter(['text'], axis=1)"
   ]
  },
  {
   "cell_type": "code",
   "execution_count": 9,
   "metadata": {},
   "outputs": [
    {
     "data": {
      "text/html": [
       "<div>\n",
       "<style scoped>\n",
       "    .dataframe tbody tr th:only-of-type {\n",
       "        vertical-align: middle;\n",
       "    }\n",
       "\n",
       "    .dataframe tbody tr th {\n",
       "        vertical-align: top;\n",
       "    }\n",
       "\n",
       "    .dataframe thead th {\n",
       "        text-align: right;\n",
       "    }\n",
       "</style>\n",
       "<table border=\"1\" class=\"dataframe\">\n",
       "  <thead>\n",
       "    <tr style=\"text-align: right;\">\n",
       "      <th></th>\n",
       "      <th>text</th>\n",
       "    </tr>\n",
       "  </thead>\n",
       "  <tbody>\n",
       "    <tr>\n",
       "      <th>0</th>\n",
       "      <td>@switchfoot http://twitpic.com/2y1zl - Awww, t...</td>\n",
       "    </tr>\n",
       "    <tr>\n",
       "      <th>1</th>\n",
       "      <td>is upset that he can't update his Facebook by ...</td>\n",
       "    </tr>\n",
       "    <tr>\n",
       "      <th>2</th>\n",
       "      <td>@Kenichan I dived many times for the ball. Man...</td>\n",
       "    </tr>\n",
       "    <tr>\n",
       "      <th>3</th>\n",
       "      <td>my whole body feels itchy and like its on fire</td>\n",
       "    </tr>\n",
       "    <tr>\n",
       "      <th>4</th>\n",
       "      <td>@nationwideclass no, it's not behaving at all....</td>\n",
       "    </tr>\n",
       "  </tbody>\n",
       "</table>\n",
       "</div>"
      ],
      "text/plain": [
       "                                                text\n",
       "0  @switchfoot http://twitpic.com/2y1zl - Awww, t...\n",
       "1  is upset that he can't update his Facebook by ...\n",
       "2  @Kenichan I dived many times for the ball. Man...\n",
       "3    my whole body feels itchy and like its on fire \n",
       "4  @nationwideclass no, it's not behaving at all...."
      ]
     },
     "execution_count": 9,
     "metadata": {},
     "output_type": "execute_result"
    }
   ],
   "source": [
    "# printing the dataframe\n",
    "tweet_long_df_new.head()"
   ]
  },
  {
   "cell_type": "code",
   "execution_count": 10,
   "metadata": {},
   "outputs": [],
   "source": [
    "# Saving the tweets (every tweet in a new line) in a text file\n",
    "tweet_long_df_new.to_csv('longTweet.txt', sep='\\n', index=False)"
   ]
  },
  {
   "cell_type": "code",
   "execution_count": 11,
   "metadata": {},
   "outputs": [],
   "source": [
    "# Creating a new dataframe with only the labels\n",
    "tweet_long_df_new_label = tweet_long_df.filter(['target'], axis=1)"
   ]
  },
  {
   "cell_type": "markdown",
   "metadata": {},
   "source": [
    "According to the dataset description, the polarity of the tweets are saved in numeric form. 0 = negative, 2 = neutral, 4 = positive. However, the dataset from link 1 saves the polarity as such- N = negative, O = neutral, P = positive. To make the datasets of the same format, I am changing the polarity of the second dataset according to the first dataset format."
   ]
  },
  {
   "cell_type": "code",
   "execution_count": 12,
   "metadata": {},
   "outputs": [],
   "source": [
    "tweet_long_df_new_label.loc[(tweet_long_df_new_label.target == 0), 'target'] = 'N'"
   ]
  },
  {
   "cell_type": "code",
   "execution_count": 13,
   "metadata": {},
   "outputs": [],
   "source": [
    "tweet_long_df_new_label.loc[(tweet_long_df_new_label.target == 2), 'target'] = 'O'"
   ]
  },
  {
   "cell_type": "code",
   "execution_count": 14,
   "metadata": {},
   "outputs": [],
   "source": [
    "tweet_long_df_new_label.loc[(tweet_long_df_new_label.target == 4), 'target'] = 'P'"
   ]
  },
  {
   "cell_type": "code",
   "execution_count": 15,
   "metadata": {},
   "outputs": [
    {
     "data": {
      "text/html": [
       "<div>\n",
       "<style scoped>\n",
       "    .dataframe tbody tr th:only-of-type {\n",
       "        vertical-align: middle;\n",
       "    }\n",
       "\n",
       "    .dataframe tbody tr th {\n",
       "        vertical-align: top;\n",
       "    }\n",
       "\n",
       "    .dataframe thead th {\n",
       "        text-align: right;\n",
       "    }\n",
       "</style>\n",
       "<table border=\"1\" class=\"dataframe\">\n",
       "  <thead>\n",
       "    <tr style=\"text-align: right;\">\n",
       "      <th></th>\n",
       "      <th>target</th>\n",
       "    </tr>\n",
       "  </thead>\n",
       "  <tbody>\n",
       "    <tr>\n",
       "      <th>0</th>\n",
       "      <td>N</td>\n",
       "    </tr>\n",
       "    <tr>\n",
       "      <th>1</th>\n",
       "      <td>N</td>\n",
       "    </tr>\n",
       "    <tr>\n",
       "      <th>2</th>\n",
       "      <td>N</td>\n",
       "    </tr>\n",
       "    <tr>\n",
       "      <th>3</th>\n",
       "      <td>N</td>\n",
       "    </tr>\n",
       "    <tr>\n",
       "      <th>4</th>\n",
       "      <td>N</td>\n",
       "    </tr>\n",
       "    <tr>\n",
       "      <th>...</th>\n",
       "      <td>...</td>\n",
       "    </tr>\n",
       "    <tr>\n",
       "      <th>1599995</th>\n",
       "      <td>P</td>\n",
       "    </tr>\n",
       "    <tr>\n",
       "      <th>1599996</th>\n",
       "      <td>P</td>\n",
       "    </tr>\n",
       "    <tr>\n",
       "      <th>1599997</th>\n",
       "      <td>P</td>\n",
       "    </tr>\n",
       "    <tr>\n",
       "      <th>1599998</th>\n",
       "      <td>P</td>\n",
       "    </tr>\n",
       "    <tr>\n",
       "      <th>1599999</th>\n",
       "      <td>P</td>\n",
       "    </tr>\n",
       "  </tbody>\n",
       "</table>\n",
       "<p>1600000 rows × 1 columns</p>\n",
       "</div>"
      ],
      "text/plain": [
       "        target\n",
       "0            N\n",
       "1            N\n",
       "2            N\n",
       "3            N\n",
       "4            N\n",
       "...        ...\n",
       "1599995      P\n",
       "1599996      P\n",
       "1599997      P\n",
       "1599998      P\n",
       "1599999      P\n",
       "\n",
       "[1600000 rows x 1 columns]"
      ]
     },
     "execution_count": 15,
     "metadata": {},
     "output_type": "execute_result"
    }
   ],
   "source": [
    "tweet_long_df_new_label"
   ]
  },
  {
   "cell_type": "code",
   "execution_count": 16,
   "metadata": {},
   "outputs": [],
   "source": [
    "# Saving the label tweets (every tweet in a new line) in a text file\n",
    "tweet_long_df_new_label.to_csv('twitterLabelBig.txt', sep='\\n', index=False)"
   ]
  },
  {
   "cell_type": "markdown",
   "metadata": {},
   "source": [
    "Next step is to merge the tweets from the different datasets"
   ]
  },
  {
   "cell_type": "code",
   "execution_count": 17,
   "metadata": {},
   "outputs": [],
   "source": [
    "# Python program to merge two files \n",
    "dataTweet = dataTweet2 = \"\" \n",
    "  \n",
    "# Reading data from first file \n",
    "with open('tweets_data.txt', errors='ignore') as fp: \n",
    "    dataTweet = fp.read() \n",
    "    with open('longTweet.txt', errors='ignore') as fp: \n",
    "        dataTweet2 = fp.read() \n",
    "# Merging two files into one another file \n",
    "dataTweet += \"\\n\"\n",
    "dataTweet += dataTweet2 \n",
    "with open ('totalTweet.txt', 'w') as fp: \n",
    "    fp.write(dataTweet)\n",
    "# Python program to\n",
    "# demonstrate merging\n",
    "# of two files\n",
    "\n",
    "\n"
   ]
  },
  {
   "cell_type": "markdown",
   "metadata": {},
   "source": [
    "Now merging the labels from the two datasets"
   ]
  },
  {
   "cell_type": "code",
   "execution_count": 25,
   "metadata": {},
   "outputs": [],
   "source": [
    "# Python program to merge two files \n",
    "dataTweet = dataTweet2 = \"\" \n",
    "  \n",
    "# Reading data from first file \n",
    "with open('tweets_label.txt', errors='ignore') as fp: \n",
    "    dataTweet = fp.read() \n",
    "    with open('twitterLabelBig.txt', errors='ignore') as fp: \n",
    "        dataTweet2 = fp.read() \n",
    "# Merging two files into one another file \n",
    "dataTweet += \"\\n\"\n",
    "dataTweet += dataTweet2 \n",
    "with open ('totalLabel.txt', 'w') as fp: \n",
    "    fp.write(dataTweet)"
   ]
  },
  {
   "cell_type": "markdown",
   "metadata": {},
   "source": [
    "The following step combines the tweets with their polarity value. The prefix \"__label__\" is necessary for the fasttext format"
   ]
  },
  {
   "cell_type": "code",
   "execution_count": 41,
   "metadata": {},
   "outputs": [],
   "source": [
    "combine =[]\n",
    "\n",
    "with open(\"totalTweet.txt\") as xh:\n",
    "    with open('totalLabel.txt') as yh:\n",
    "        with open(\"totalLabelledTweet.txt\",\"w\") as zh:\n",
    "      #Read first file\n",
    "          xlines = xh.readlines()\n",
    "      #Read second file\n",
    "          ylines = yh.readlines()\n",
    "      #Combine content of both lists\n",
    "      #combine = list(zip(ylines,xlines))\n",
    "      #Write to third file\n",
    "          for i in range(len(xlines)):\n",
    "            line = \"__label__\"+ ylines[i].strip() + ' ' + xlines[i]\n",
    "            zh.write(line)"
   ]
  },
  {
   "cell_type": "markdown",
   "metadata": {},
   "source": [
    "The command line code \"wc totalLabelledTweet.txt\" will give us the result of the word counts, line counts information which is in my case is 1600500 (line count or in this case number of tweets)"
   ]
  },
  {
   "cell_type": "markdown",
   "metadata": {},
   "source": [
    "The next step is to divide the datasets into train and test sets. I have created tweet.train and tweet.valid sets for training and testing purpose respectively."
   ]
  },
  {
   "cell_type": "code",
   "execution_count": 42,
   "metadata": {},
   "outputs": [],
   "source": [
    "# importing fasttext library\n",
    "import fasttext"
   ]
  },
  {
   "cell_type": "markdown",
   "metadata": {},
   "source": [
    "train_supervised() will mostly be used for retruning a model object and calling test and predict on that object. This is the same as learning the text classifier."
   ]
  },
  {
   "cell_type": "code",
   "execution_count": 43,
   "metadata": {},
   "outputs": [],
   "source": [
    "model = fasttext.train_supervised(input=\"tweet.train\")"
   ]
  },
  {
   "cell_type": "markdown",
   "metadata": {},
   "source": [
    "The input argument indicates the file containing the training examples. We can now use the model variable to access information on the trained model.\n",
    "\n",
    "We can also call save_model to save it as a file and load it later with load_model function.\n",
    "<br>source: https://fasttext.cc/docs/en/supervised-tutorial.html "
   ]
  },
  {
   "cell_type": "code",
   "execution_count": 44,
   "metadata": {},
   "outputs": [],
   "source": [
    "model.save_model(\"model_tweet.bin\")"
   ]
  },
  {
   "cell_type": "markdown",
   "metadata": {},
   "source": [
    "For testing the classifier, model.predict() is used."
   ]
  },
  {
   "cell_type": "code",
   "execution_count": 45,
   "metadata": {},
   "outputs": [
    {
     "data": {
      "text/plain": [
       "(('__label__N',), array([0.79193991]))"
      ]
     },
     "execution_count": 45,
     "metadata": {},
     "output_type": "execute_result"
    }
   ],
   "source": [
    "model.predict(\"Because I'm happy\")"
   ]
  },
  {
   "cell_type": "markdown",
   "metadata": {},
   "source": [
    "As happy is a positive word, it is labelled as P"
   ]
  },
  {
   "cell_type": "code",
   "execution_count": 46,
   "metadata": {},
   "outputs": [
    {
     "data": {
      "text/plain": [
       "(('__label__P',), array([0.6295979]))"
      ]
     },
     "execution_count": 46,
     "metadata": {},
     "output_type": "execute_result"
    }
   ],
   "source": [
    "model.predict(\"Which baking dish is best to bake a banana bread ?\")"
   ]
  },
  {
   "cell_type": "markdown",
   "metadata": {},
   "source": [
    "The word \"best\" is a positive word"
   ]
  },
  {
   "cell_type": "code",
   "execution_count": 47,
   "metadata": {},
   "outputs": [
    {
     "data": {
      "text/plain": [
       "(('__label__N',), array([1.00001001]))"
      ]
     },
     "execution_count": 47,
     "metadata": {},
     "output_type": "execute_result"
    }
   ],
   "source": [
    "model.predict(\"I am sad\")"
   ]
  },
  {
   "cell_type": "markdown",
   "metadata": {},
   "source": [
    "Smilarly \"sad\" is a word discribing negative emotion "
   ]
  },
  {
   "cell_type": "markdown",
   "metadata": {},
   "source": [
    "Next step is to test the model's quality on the test set"
   ]
  },
  {
   "cell_type": "code",
   "execution_count": 48,
   "metadata": {},
   "outputs": [
    {
     "data": {
      "text/plain": [
       "(480500, 0.17850780437044744, 0.17850780437044744)"
      ]
     },
     "execution_count": 48,
     "metadata": {},
     "output_type": "execute_result"
    }
   ],
   "source": [
    "model.test(\"tweet.valid\")"
   ]
  },
  {
   "cell_type": "markdown",
   "metadata": {},
   "source": [
    "The output are the number of samples (here 480500), the precision at one (0.643) and the recall at one (0.643)."
   ]
  },
  {
   "cell_type": "code",
   "execution_count": 49,
   "metadata": {},
   "outputs": [
    {
     "data": {
      "text/plain": [
       "(480500, 0.3333333333333333, 1.0)"
      ]
     },
     "execution_count": 49,
     "metadata": {},
     "output_type": "execute_result"
    }
   ],
   "source": [
    "model.test(\"tweet.valid\", k=5)"
   ]
  },
  {
   "cell_type": "markdown",
   "metadata": {},
   "source": [
    "The precision at 5 is 0.333 and recall is 1"
   ]
  },
  {
   "cell_type": "markdown",
   "metadata": {},
   "source": [
    "As we know that, precision discloses the number of correct labels among the labels predicted by fastText and the recall score is the number of successfully predicted labels among all the real ones."
   ]
  },
  {
   "cell_type": "code",
   "execution_count": 50,
   "metadata": {},
   "outputs": [
    {
     "data": {
      "text/plain": [
       "(('__label__N', '__label__P', '__label__O'),\n",
       " array([7.91939914e-01, 2.08080098e-01, 1.00023208e-05]))"
      ]
     },
     "execution_count": 50,
     "metadata": {},
     "output_type": "execute_result"
    }
   ],
   "source": [
    "model.predict(\"Because I'm happy\", k=5)"
   ]
  },
  {
   "cell_type": "markdown",
   "metadata": {},
   "source": [
    "## Model Betterment"
   ]
  },
  {
   "cell_type": "markdown",
   "metadata": {},
   "source": [
    "A crude normalization can be obtained using the command line tools such as sed and tr and by using that, I removed the uppercase and punctuation marks."
   ]
  },
  {
   "cell_type": "markdown",
   "metadata": {},
   "source": [
    "After preprocessing, I tried to train the new model on that data"
   ]
  },
  {
   "cell_type": "code",
   "execution_count": 51,
   "metadata": {},
   "outputs": [],
   "source": [
    "model_preprocssed = fasttext.train_supervised(input=\"tweetL.train\")"
   ]
  },
  {
   "cell_type": "code",
   "execution_count": 52,
   "metadata": {},
   "outputs": [
    {
     "data": {
      "text/plain": [
       "(480500, 0.6859001040582726, 0.6859001040582726)"
      ]
     },
     "execution_count": 52,
     "metadata": {},
     "output_type": "execute_result"
    }
   ],
   "source": [
    "model_preprocssed.test(\"tweetL.valid\")"
   ]
  },
  {
   "cell_type": "markdown",
   "metadata": {},
   "source": [
    "###  Model betterment through increased epoch"
   ]
  },
  {
   "cell_type": "code",
   "execution_count": 53,
   "metadata": {},
   "outputs": [],
   "source": [
    "model_hyperparameter_tuned_epochs = fasttext.train_supervised(input=\"tweetL.train\", epoch=50)"
   ]
  },
  {
   "cell_type": "code",
   "execution_count": 54,
   "metadata": {},
   "outputs": [
    {
     "data": {
      "text/plain": [
       "(480500, 0.02251196670135276, 0.02251196670135276)"
      ]
     },
     "execution_count": 54,
     "metadata": {},
     "output_type": "execute_result"
    }
   ],
   "source": [
    "model_hyperparameter_tuned_epochs.test(\"tweetL.valid\")"
   ]
  },
  {
   "cell_type": "markdown",
   "metadata": {},
   "source": [
    "After increasing the number of epochs the model became quite strong. By setting up the epoch option, I increased the number of times each example is seen from default value 5 to 50. "
   ]
  },
  {
   "cell_type": "markdown",
   "metadata": {},
   "source": [
    "### Setting up larger learning rate"
   ]
  },
  {
   "cell_type": "code",
   "execution_count": 55,
   "metadata": {},
   "outputs": [],
   "source": [
    "model_hyperparameter_tuned_lr = fasttext.train_supervised(input=\"tweetL.train\", lr=1.0)"
   ]
  },
  {
   "cell_type": "code",
   "execution_count": 56,
   "metadata": {},
   "outputs": [
    {
     "data": {
      "text/plain": [
       "(480500, 0.05064724245577523, 0.05064724245577523)"
      ]
     },
     "execution_count": 56,
     "metadata": {},
     "output_type": "execute_result"
    }
   ],
   "source": [
    "model_hyperparameter_tuned_lr.test(\"tweetL.valid\")"
   ]
  },
  {
   "cell_type": "markdown",
   "metadata": {},
   "source": [
    "precision and recall score gets a bit down from the scores of increased epoch ( around 19%)"
   ]
  },
  {
   "cell_type": "code",
   "execution_count": 57,
   "metadata": {},
   "outputs": [],
   "source": [
    "model_hyperparameter_tuned_lr1 = fasttext.train_supervised(input=\"tweetL.train\", lr=0.5)"
   ]
  },
  {
   "cell_type": "code",
   "execution_count": 58,
   "metadata": {},
   "outputs": [
    {
     "data": {
      "text/plain": [
       "(480500, 0.6238834547346515, 0.6238834547346515)"
      ]
     },
     "execution_count": 58,
     "metadata": {},
     "output_type": "execute_result"
    }
   ],
   "source": [
    "model_hyperparameter_tuned_lr1.test(\"tweetL.valid\")"
   ]
  },
  {
   "cell_type": "markdown",
   "metadata": {},
   "source": [
    "As we know the range of lr is from 0.1 to 1.0. By applying lr=0.5, I could see that the scores decreased"
   ]
  },
  {
   "cell_type": "markdown",
   "metadata": {},
   "source": [
    "### Applying learing rate and increased epoch"
   ]
  },
  {
   "cell_type": "code",
   "execution_count": 59,
   "metadata": {},
   "outputs": [],
   "source": [
    "model_hyperparameter_tuned = fasttext.train_supervised(input=\"tweetL.train\", lr=1.0, epoch=25)"
   ]
  },
  {
   "cell_type": "code",
   "execution_count": 60,
   "metadata": {},
   "outputs": [
    {
     "data": {
      "text/plain": [
       "(480500, 0.6116024973985432, 0.6116024973985432)"
      ]
     },
     "execution_count": 60,
     "metadata": {},
     "output_type": "execute_result"
    }
   ],
   "source": [
    "model_hyperparameter_tuned.test(\"tweetL.valid\")"
   ]
  },
  {
   "cell_type": "markdown",
   "metadata": {},
   "source": [
    "## Word n-grams"
   ]
  },
  {
   "cell_type": "markdown",
   "metadata": {},
   "source": [
    "In case of sentiment analysis, using bigrams can be beneficial as word order can effect the accuracy of sentiment analysis. For example, In the sentence- \"I am not good at accounting.\" has the word \"good\" in it, it might be declared as positive but, using bigrams can be useful here as the word order \"not good\" will be taken into account and deemed as negative. "
   ]
  },
  {
   "cell_type": "code",
   "execution_count": 61,
   "metadata": {},
   "outputs": [],
   "source": [
    "model_bigram = fasttext.train_supervised(input=\"tweetL.train\", lr=1.0, epoch=25, wordNgrams=2)"
   ]
  },
  {
   "cell_type": "code",
   "execution_count": 62,
   "metadata": {},
   "outputs": [
    {
     "data": {
      "text/plain": [
       "(480500, 0.7501394380853278, 0.7501394380853278)"
      ]
     },
     "execution_count": 62,
     "metadata": {},
     "output_type": "execute_result"
    }
   ],
   "source": [
    "model_bigram.test(\"tweetL.valid\")"
   ]
  },
  {
   "cell_type": "markdown",
   "metadata": {},
   "source": [
    "## Hierarchical softmax"
   ]
  },
  {
   "cell_type": "markdown",
   "metadata": {},
   "source": [
    "A potential solution for faster training is to use hierarchical softmax instead of the regular softmax. This can be utilised with the option -loss hs :"
   ]
  },
  {
   "cell_type": "code",
   "execution_count": 63,
   "metadata": {},
   "outputs": [],
   "source": [
    "model_hisoftmax = fasttext.train_supervised(input=\"tweetL.train\", lr=1.0, epoch=25, wordNgrams=2, bucket=200000, dim=50, loss='hs') "
   ]
  },
  {
   "cell_type": "code",
   "execution_count": 64,
   "metadata": {},
   "outputs": [
    {
     "data": {
      "text/plain": [
       "(480500, 0.631735691987513, 0.631735691987513)"
      ]
     },
     "execution_count": 64,
     "metadata": {},
     "output_type": "execute_result"
    }
   ],
   "source": [
    "model_hisoftmax.test(\"tweetL.valid\")"
   ]
  },
  {
   "cell_type": "markdown",
   "metadata": {},
   "source": [
    "The increase rate in precision from bigram to Hierarchical softmax is 22.06% "
   ]
  },
  {
   "cell_type": "markdown",
   "metadata": {},
   "source": [
    "The hierarchical softmax is a loss function that approximates the softmax with a much faster computation.\n",
    "\n",
    "The idea is to build a binary tree whose leaves correspond to the labels. Each intermediate node has a binary decision activation (e.g. sigmoid) that is trained, and predicts if we should go to the left or to the right. The probability of the output unit is then given by the product of the probabilities of intermediate nodes along the path from the root to the output unit leave.\n",
    "\n",
    "For a detailed explanation, you can have a look on this video.\n",
    "\n",
    "In fastText, we use a Huffman tree, so that the lookup time is faster for more frequent outputs and thus the average lookup time for the output is optimal.\n",
    "<br>\n",
    "Data Source: https://fasttext.cc/docs/en/supervised-tutorial.html"
   ]
  },
  {
   "cell_type": "markdown",
   "metadata": {},
   "source": [
    "## Multi-label classification"
   ]
  },
  {
   "cell_type": "markdown",
   "metadata": {},
   "source": [
    "This step is beneficial when we want to assign multiple labels to the document. When we use independent binary classifiers for each label, it creates a convenient environment to handle multple labels. "
   ]
  },
  {
   "cell_type": "code",
   "execution_count": 65,
   "metadata": {},
   "outputs": [],
   "source": [
    "model_multiClass= fasttext.train_supervised(input=\"tweetL.train\", lr=0.5, epoch=25, wordNgrams=2, bucket=200000, dim=50, loss='ova')"
   ]
  },
  {
   "cell_type": "code",
   "execution_count": 66,
   "metadata": {},
   "outputs": [
    {
     "data": {
      "text/plain": [
       "(('__label__n',), array([1.00001001]))"
      ]
     },
     "execution_count": 66,
     "metadata": {},
     "output_type": "execute_result"
    }
   ],
   "source": [
    "model_multiClass.predict(\"because I'm not happy\", k=-1, threshold = 0.5)"
   ]
  },
  {
   "cell_type": "code",
   "execution_count": 67,
   "metadata": {},
   "outputs": [
    {
     "data": {
      "text/plain": [
       "(480500, 0.3333333333333333, 1.0)"
      ]
     },
     "execution_count": 67,
     "metadata": {},
     "output_type": "execute_result"
    }
   ],
   "source": [
    "model_multiClass.test(\"tweetL.valid\", k=-1)"
   ]
  },
  {
   "cell_type": "markdown",
   "metadata": {},
   "source": [
    "Now it shows that we are getting recall score 1.0 "
   ]
  }
 ],
 "metadata": {
  "kernelspec": {
   "display_name": "Python 3",
   "language": "python",
   "name": "python3"
  },
  "language_info": {
   "codemirror_mode": {
    "name": "ipython",
    "version": 3
   },
   "file_extension": ".py",
   "mimetype": "text/x-python",
   "name": "python",
   "nbconvert_exporter": "python",
   "pygments_lexer": "ipython3",
   "version": "3.8.3"
  }
 },
 "nbformat": 4,
 "nbformat_minor": 4
}
